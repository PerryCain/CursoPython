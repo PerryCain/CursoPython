{
  "nbformat": 4,
  "nbformat_minor": 0,
  "metadata": {
    "colab": {
      "provenance": []
    },
    "kernelspec": {
      "name": "python3",
      "display_name": "Python 3"
    },
    "language_info": {
      "name": "python"
    }
  },
  "cells": [
    {
      "cell_type": "markdown",
      "source": [
        "A. Extraer la informacion del archivo"
      ],
      "metadata": {
        "id": "KPW-gC8RnLAo"
      }
    },
    {
      "cell_type": "code",
      "source": [
        "import pandas as pd\n",
        "#!pip install XlsxWriter #(Descomentar para instalar en Colab)\n",
        "import xlsxwriter\n",
        "archivo=\"country_vaccinations.csv\"\n",
        "\n",
        "def leer_archivo(archivo):\n",
        "  df = pd.read_csv(archivo)\n",
        "  return df\n",
        "leer_archivo(archivo)"
      ],
      "metadata": {
        "id": "oZIUCZrRnP-W"
      },
      "execution_count": null,
      "outputs": []
    },
    {
      "cell_type": "markdown",
      "source": [
        "B. Mostrar la estructura y tipos de datos de cada columna para identificar qué operaciones puedes realizar con cada una de ellas, asegurándote que las columnas con fechas sean del tipo datetime64."
      ],
      "metadata": {
        "id": "awBMvpmYphjV"
      }
    },
    {
      "cell_type": "code",
      "source": [
        "def convertirfecha(df):\n",
        "  print(df.dtypes)\n",
        "  df['date'] = pd.to_datetime(df['date'])\n",
        "  print(df.dtypes)\n",
        "  return df\n",
        "convertirfecha(df)"
      ],
      "metadata": {
        "id": "OVl2y5yytxPD"
      },
      "execution_count": null,
      "outputs": []
    },
    {
      "cell_type": "markdown",
      "source": [
        "C. Determinar la cantidad de vacunas aplicadas de cada compañía (con base en cómo lo reporta cada país en la columna vaccines, en otras palabras, agrupe por vaccines y realice la sumatoria)."
      ],
      "metadata": {
        "id": "HTrEer6RwS3i"
      }
    },
    {
      "cell_type": "code",
      "source": [
        "def agruparporcompania(df):\n",
        "  porcompania = df.groupby('vaccines')['daily_vaccinations'].sum()\n",
        "  return porcompania\n",
        "agruparporcompania(df)"
      ],
      "metadata": {
        "id": "5vh3u8N0wXul"
      },
      "execution_count": null,
      "outputs": []
    },
    {
      "cell_type": "markdown",
      "source": [
        "D. Obtener la cantidad de vacunas aplicadas en todo el mundo"
      ],
      "metadata": {
        "id": "4Jb1MqOjxnjs"
      }
    },
    {
      "cell_type": "code",
      "source": [
        "def calculomundial(df):\n",
        "  mundial = df['daily_vaccinations'].sum()\n",
        "  return mundial\n",
        "calculomundial(df)\n",
        "\n"
      ],
      "metadata": {
        "colab": {
          "base_uri": "https://localhost:8080/"
        },
        "id": "fKwoLT3Jxvyv",
        "outputId": "af4fcc0d-2200-4093-e879-1a20fcefff80"
      },
      "execution_count": 67,
      "outputs": [
        {
          "output_type": "execute_result",
          "data": {
            "text/plain": [
              "11320239871.0"
            ]
          },
          "metadata": {},
          "execution_count": 67
        }
      ]
    },
    {
      "cell_type": "markdown",
      "source": [
        "E. Calcular el promedio de vacunas aplicadas por país."
      ],
      "metadata": {
        "id": "Td0vFMnsyLpz"
      }
    },
    {
      "cell_type": "code",
      "source": [
        "def promediarpais(df):\n",
        "  promediopais = df.groupby('country')['daily_vaccinations'].mean()\n",
        "  return promediopais\n",
        "promediarpais(df)\n"
      ],
      "metadata": {
        "id": "g7bhctgYyTSh"
      },
      "execution_count": null,
      "outputs": []
    },
    {
      "cell_type": "markdown",
      "source": [
        "F. Determinar la cantidad de vacunas aplicadas el día 29/01/21 en todo el mundo."
      ],
      "metadata": {
        "id": "Zm2BZb6nzBCk"
      }
    },
    {
      "cell_type": "code",
      "source": [
        "def aplicadas_enfecha(df):\n",
        "  enfecha = df[df['date'] == '2021/01/29']['daily_vaccinations'].sum()\n",
        "  return enfecha\n",
        "aplicadas_enfecha(df)"
      ],
      "metadata": {
        "colab": {
          "base_uri": "https://localhost:8080/"
        },
        "id": "F1IyTEufzHJ6",
        "outputId": "023ea1a7-82c3-47f7-9eb1-09187dad6e96"
      },
      "execution_count": 69,
      "outputs": [
        {
          "output_type": "execute_result",
          "data": {
            "text/plain": [
              "4884052.0"
            ]
          },
          "metadata": {},
          "execution_count": 69
        }
      ]
    },
    {
      "cell_type": "markdown",
      "source": [
        "G. Crear un dataframe nuevo denominado conDiferencias que contenga los datos originales y una columna derivada (diferencias) con las diferencias de aplicación entre las columnas daily_vaccionations y daily_vaccionations_raw.  "
      ],
      "metadata": {
        "id": "0f2QPGGPzZi-"
      }
    },
    {
      "cell_type": "code",
      "source": [
        "def crear_conDiferencias(df):\n",
        "    conDiferencias = df.copy()\n",
        "    conDiferencias['diferencias'] = conDiferencias['daily_vaccinations'] - conDiferencias['daily_vaccinations_raw']\n",
        "    return conDiferencias\n",
        "crear_conDiferencias(df)"
      ],
      "metadata": {
        "id": "VQgp3QYAzeSR"
      },
      "execution_count": null,
      "outputs": []
    },
    {
      "cell_type": "markdown",
      "source": [
        "H. Obtener el periodo de tiempo entre el registro con fecha más reciente y el registro con fecha más antigua."
      ],
      "metadata": {
        "id": "1YaUWBRbz23A"
      }
    },
    {
      "cell_type": "code",
      "source": [
        "def obtener_periodo_de_tiempo(df):\n",
        "    fecha_mas_reciente = df['date'].max()\n",
        "    fecha_mas_antigua = df['date'].min()\n",
        "    periodo_de_tiempo = fecha_mas_reciente - fecha_mas_antigua\n",
        "    return periodo_de_tiempo\n",
        "obtener_periodo_de_tiempo(df)\n"
      ],
      "metadata": {
        "colab": {
          "base_uri": "https://localhost:8080/"
        },
        "id": "mVwKOpSNz7mX",
        "outputId": "41a15106-d2dc-4774-a844-2c49d98942c1"
      },
      "execution_count": 71,
      "outputs": [
        {
          "output_type": "execute_result",
          "data": {
            "text/plain": [
              "Timedelta('482 days 00:00:00')"
            ]
          },
          "metadata": {},
          "execution_count": 71
        }
      ]
    },
    {
      "cell_type": "markdown",
      "source": [
        "I. Crear un dataframe nuevo denominado conCantidad que contenga los datos originales y una columna derivada (canVac) con la cantidad de vacunas utilizadas cada día (usar la columna vaccines y separar por el carácter , )."
      ],
      "metadata": {
        "id": "VZ0LLuII0F1v"
      }
    },
    {
      "cell_type": "code",
      "source": [
        "def crear_conCantidad(df):\n",
        "    conCantidad = df.copy()\n",
        "    conCantidad['canVac'] = conCantidad['vaccines'].str.split(',').str.len()\n",
        "    return conCantidad\n",
        "crear_conCantidad(df)\n"
      ],
      "metadata": {
        "id": "AjUi4dG80LgY"
      },
      "execution_count": null,
      "outputs": []
    },
    {
      "cell_type": "markdown",
      "source": [
        "J. Generar un dataframe denominado antes20 con todos los registros que se hayan realizado antes del 20 de diciembre de 2020."
      ],
      "metadata": {
        "id": "s14QS-ux0lKi"
      }
    },
    {
      "cell_type": "code",
      "source": [
        "def crear_antes20(df):\n",
        "    antes20 = df[df['date'] < '2020/12/20']\n",
        "    return antes20\n",
        "crear_antes20(df)"
      ],
      "metadata": {
        "id": "h9mXJ1Kd0oju"
      },
      "execution_count": null,
      "outputs": []
    },
    {
      "cell_type": "markdown",
      "source": [
        "K. Obtener un dataframe denominado pfizer con todos los registros donde se haya utilizado la vacuna Pfizer."
      ],
      "metadata": {
        "id": "RsIKikRd11O7"
      }
    },
    {
      "cell_type": "code",
      "source": [
        "def obtener_dataframe_pfizer(df):\n",
        "    pfizer = df[df['vaccines'].str.contains('Pfizer')]\n",
        "    return pfizer\n",
        "obtener_dataframe_pfizer(df)"
      ],
      "metadata": {
        "id": "ZR6rLyFo15Qq"
      },
      "execution_count": null,
      "outputs": []
    },
    {
      "cell_type": "markdown",
      "source": [
        "L. Almacenar los dataframes generados (conDiferencias, conCantidad, antes20 y pfizer) en un archivo de Excel denominado resultadosReto.xlsx, donde cada dataframe ocupe una hoja diferente"
      ],
      "metadata": {
        "id": "jfnuNUer2ID8"
      }
    },
    {
      "cell_type": "code",
      "source": [
        "def almacenar(df):\n",
        "  pfizer = obtener_dataframe_pfizer(df)\n",
        "  antes20 = crear_antes20(df)\n",
        "  conCantidad = crear_conCantidad(df)\n",
        "  conDiferencias = crear_conDiferencias(df)\n",
        "\n",
        "  with pd.ExcelWriter(\"resultadoReto.xlsx\", engine=\"xlsxwriter\") as writer:\n",
        "    conDiferencias.to_excel(writer, sheet_name=\"conDiferencias\")\n",
        "    conCantidad.to_excel(writer, sheet_name=\"conCantidad\")\n",
        "    antes20.to_excel(writer, sheet_name=\"antes20\")\n",
        "    pfizer.to_excel(writer, sheet_name=\"pfizer\")\n",
        "almacenar(df)\n",
        "\n"
      ],
      "metadata": {
        "id": "56bXMDHy2Ng9"
      },
      "execution_count": null,
      "outputs": []
    }
  ]
}